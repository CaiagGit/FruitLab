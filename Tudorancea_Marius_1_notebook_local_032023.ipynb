{
  "nbformat": 4,
  "nbformat_minor": 0,
  "metadata": {
    "colab": {
      "provenance": [],
      "collapsed_sections": [
        "BkmO5PQw-6tj",
        "PkT0qKXfH1Wi",
        "8NpJogjZJ-qf",
        "cBWdUTpuKvCw",
        "4CwEXBFRLjKS",
        "lKxztnhOO0oa",
        "dHgVxfT1PhK3"
      ],
      "machine_shape": "hm"
    },
    "kernelspec": {
      "name": "python3",
      "display_name": "Python 3"
    },
    "language_info": {
      "name": "python"
    },
    "gpuClass": "standard"
  },
  "cells": [
    {
      "cell_type": "markdown",
      "source": [
        "# **1. Modules dépendances et bibliothèques**"
      ],
      "metadata": {
        "id": "BkmO5PQw-6tj"
      }
    },
    {
      "cell_type": "code",
      "execution_count": null,
      "metadata": {
        "id": "7y2tKNSd-xM_"
      },
      "outputs": [],
      "source": [
        "#!pip install pyspark\n",
        "\n",
        "import os\n",
        "import zipfile\n",
        "import numpy as np\n",
        "import io\n",
        "import pandas as pd\n",
        "\n",
        "from PIL import Image\n",
        "from pyspark.sql import SparkSession\n",
        "from pyspark.sql.functions import element_at, split, pandas_udf, PandasUDFType, col\n",
        "from pyspark.sql.functions import udf\n",
        "from pyspark.ml.feature import PCA\n",
        "from pyspark.ml.linalg import VectorUDT, Vectors\n",
        "from tensorflow.keras.applications.mobilenet_v2 import MobileNetV2, preprocess_input\n",
        "from tensorflow.keras import Model\n",
        "from tensorflow.keras.preprocessing.image import img_to_array"
      ]
    },
    {
      "cell_type": "markdown",
      "source": [
        "# **2. Importation des données et définition du chemin d'accès**"
      ],
      "metadata": {
        "id": "PkT0qKXfH1Wi"
      }
    },
    {
      "cell_type": "code",
      "source": [
        "os.environ['KAGGLE_USERNAME'] = \"*******\" \n",
        "os.environ['KAGGLE_KEY'] = \"*****************************\" \n",
        "\n",
        "!kaggle datasets download -d moltean/fruits\n",
        "\n",
        "with zipfile.ZipFile(\"fruits.zip\", 'r') as zip_ref:\n",
        "    zip_ref.extractall(\"images\")"
      ],
      "metadata": {
        "colab": {
          "base_uri": "https://localhost:8080/"
        },
        "id": "pZEQZjwg_EHb",
        "outputId": "d49ea0a8-a1ce-4831-fddb-d6862b00fe79"
      },
      "execution_count": 2,
      "outputs": [
        {
          "output_type": "stream",
          "name": "stdout",
          "text": [
            "Downloading fruits.zip to /content\n",
            "100% 1.28G/1.28G [00:45<00:00, 33.0MB/s]\n",
            "100% 1.28G/1.28G [00:45<00:00, 30.1MB/s]\n"
          ]
        }
      ]
    },
    {
      "cell_type": "code",
      "source": [
        "PATH = os.getcwd()\n",
        "PATH_Data = PATH+'/images/fruits-360-original-size/fruits-360-original-size/Test'\n",
        "PATH_Result = PATH+'/resultMobileNet'\n",
        "print('PATH:        '+\\\n",
        "      PATH+'\\nPATH_Data:   '+\\\n",
        "      PATH_Data+'\\nPATH_Result: '+PATH_Result)"
      ],
      "metadata": {
        "colab": {
          "base_uri": "https://localhost:8080/"
        },
        "id": "jijv19hq_EQP",
        "outputId": "0e25cf02-e3cb-4eca-d78d-ffd59f009ea5"
      },
      "execution_count": 3,
      "outputs": [
        {
          "output_type": "stream",
          "name": "stdout",
          "text": [
            "PATH:        /content\n",
            "PATH_Data:   /content/images/fruits-360-original-size/fruits-360-original-size/Test\n",
            "PATH_Result: /content/resultMobileNet\n"
          ]
        }
      ]
    },
    {
      "cell_type": "markdown",
      "source": [
        "# **3. Création d'une session Spark**"
      ],
      "metadata": {
        "id": "8NpJogjZJ-qf"
      }
    },
    {
      "cell_type": "code",
      "source": [
        "spark = (SparkSession\n",
        "             .builder\n",
        "             .appName('P8')\n",
        "             .master('local')\n",
        "             .config(\"spark.sql.parquet.writeLegacyFormat\", 'true')\n",
        "             .getOrCreate()\n",
        ")\n",
        "\n",
        "sc = spark.sparkContext\n",
        "\n",
        "spark"
      ],
      "metadata": {
        "colab": {
          "base_uri": "https://localhost:8080/",
          "height": 219
        },
        "id": "1CPvi7pWJ_lx",
        "outputId": "9820430c-8aa0-4fbb-cfcc-e6cfe68c6474"
      },
      "execution_count": 4,
      "outputs": [
        {
          "output_type": "execute_result",
          "data": {
            "text/plain": [
              "<pyspark.sql.session.SparkSession at 0x7fee1685f580>"
            ],
            "text/html": [
              "\n",
              "            <div>\n",
              "                <p><b>SparkSession - in-memory</b></p>\n",
              "                \n",
              "        <div>\n",
              "            <p><b>SparkContext</b></p>\n",
              "\n",
              "            <p><a href=\"http://866f8e2b9ce2:4040\">Spark UI</a></p>\n",
              "\n",
              "            <dl>\n",
              "              <dt>Version</dt>\n",
              "                <dd><code>v3.3.2</code></dd>\n",
              "              <dt>Master</dt>\n",
              "                <dd><code>local</code></dd>\n",
              "              <dt>AppName</dt>\n",
              "                <dd><code>P8</code></dd>\n",
              "            </dl>\n",
              "        </div>\n",
              "        \n",
              "            </div>\n",
              "        "
            ]
          },
          "metadata": {},
          "execution_count": 4
        }
      ]
    },
    {
      "cell_type": "markdown",
      "source": [
        "# **4. Chargement des images au format binaire**"
      ],
      "metadata": {
        "id": "cBWdUTpuKvCw"
      }
    },
    {
      "cell_type": "code",
      "source": [
        "images = spark.read.format(\"binaryFile\") \\\n",
        "  .option(\"pathGlobFilter\", \"*.jpg\") \\\n",
        "  .option(\"recursiveFileLookup\", \"true\") \\\n",
        "  .load(PATH_Data)\n",
        "\n",
        "images = images.withColumn('label', element_at(split(images['path'], '/'),-2))\n",
        "print(images.printSchema())\n",
        "print(images.select('path','label').show(5,False))"
      ],
      "metadata": {
        "colab": {
          "base_uri": "https://localhost:8080/"
        },
        "id": "Hfiyzfz9KvUS",
        "outputId": "b6b879e5-2d75-4541-a8b2-165764270a18"
      },
      "execution_count": 5,
      "outputs": [
        {
          "output_type": "stream",
          "name": "stdout",
          "text": [
            "root\n",
            " |-- path: string (nullable = true)\n",
            " |-- modificationTime: timestamp (nullable = true)\n",
            " |-- length: long (nullable = true)\n",
            " |-- content: binary (nullable = true)\n",
            " |-- label: string (nullable = true)\n",
            "\n",
            "None\n",
            "+--------------------------------------------------------------------------------------------------+-----------+\n",
            "|path                                                                                              |label      |\n",
            "+--------------------------------------------------------------------------------------------------+-----------+\n",
            "|file:/content/images/fruits-360-original-size/fruits-360-original-size/Test/apple_hit_1/r0_115.jpg|apple_hit_1|\n",
            "|file:/content/images/fruits-360-original-size/fruits-360-original-size/Test/apple_hit_1/r0_119.jpg|apple_hit_1|\n",
            "|file:/content/images/fruits-360-original-size/fruits-360-original-size/Test/apple_hit_1/r0_107.jpg|apple_hit_1|\n",
            "|file:/content/images/fruits-360-original-size/fruits-360-original-size/Test/apple_hit_1/r0_143.jpg|apple_hit_1|\n",
            "|file:/content/images/fruits-360-original-size/fruits-360-original-size/Test/apple_hit_1/r0_111.jpg|apple_hit_1|\n",
            "+--------------------------------------------------------------------------------------------------+-----------+\n",
            "only showing top 5 rows\n",
            "\n",
            "None\n"
          ]
        }
      ]
    },
    {
      "cell_type": "markdown",
      "source": [
        "# **5. Préparation du modèle MobileNetV2**"
      ],
      "metadata": {
        "id": "4CwEXBFRLjKS"
      }
    },
    {
      "cell_type": "code",
      "source": [
        "model = MobileNetV2(weights='imagenet',\n",
        "                    include_top=True,\n",
        "                    input_shape=(224, 224, 3))\n",
        "\n",
        "new_model = Model(inputs=model.input, outputs=model.layers[-2].output)\n",
        "brodcast_weights = sc.broadcast(new_model.get_weights())\n",
        "# new_model.summary()"
      ],
      "metadata": {
        "id": "6RbM21FHNf0s"
      },
      "execution_count": null,
      "outputs": []
    },
    {
      "cell_type": "code",
      "source": [
        "def model_fn():\n",
        "    model = MobileNetV2(weights='imagenet',\n",
        "                        include_top=True,\n",
        "                        input_shape=(224, 224, 3))\n",
        "    for layer in model.layers:\n",
        "        layer.trainable = False\n",
        "    new_model = Model(inputs=model.input,\n",
        "                  outputs=model.layers[-2].output)\n",
        "    new_model.set_weights(brodcast_weights.value)\n",
        "    return new_model\n",
        "\n",
        "def preprocess(content):\n",
        "    img = Image.open(io.BytesIO(content)).resize([224, 224])\n",
        "    arr = img_to_array(img)\n",
        "    return preprocess_input(arr)\n",
        "\n",
        "def featurize_series(model, content_series):\n",
        "    input = np.stack(content_series.map(preprocess))\n",
        "    preds = model.predict(input)\n",
        "    output = [p.flatten() for p in preds]\n",
        "    return pd.Series(output)\n",
        "\n",
        "@pandas_udf('array<float>', PandasUDFType.SCALAR_ITER)\n",
        "def featurize_udf(content_series_iter):\n",
        "    model = model_fn()\n",
        "    for content_series in content_series_iter:\n",
        "        yield featurize_series(model, content_series)"
      ],
      "metadata": {
        "id": "7gQu4bL7K6YF"
      },
      "execution_count": null,
      "outputs": []
    },
    {
      "cell_type": "markdown",
      "source": [
        "# **6. Extraction de features**"
      ],
      "metadata": {
        "id": "lKxztnhOO0oa"
      }
    },
    {
      "cell_type": "code",
      "source": [
        "features_df = images.repartition(20).select(col(\"path\"),\n",
        "                                            col(\"label\"),\n",
        "                                            featurize_udf(\"content\").alias(\"features\")\n",
        "                                           )\n",
        "\n",
        "features_df.write.mode(\"overwrite\").parquet(PATH_Result)"
      ],
      "metadata": {
        "id": "CpZnfHe9PIs4"
      },
      "execution_count": 8,
      "outputs": []
    },
    {
      "cell_type": "markdown",
      "source": [
        "# **7. Réduction dimensionnelle**"
      ],
      "metadata": {
        "id": "dHgVxfT1PhK3"
      }
    },
    {
      "cell_type": "code",
      "source": [
        "data = spark.read.parquet(PATH_Result)\n",
        "to_dense_vector = udf(lambda arr: Vectors.dense(arr), VectorUDT()) \n",
        "data = data.withColumn(\"features_dense\", to_dense_vector(\"features\")) \n",
        "pca = PCA(k=2, inputCol=\"features_dense\", outputCol=\"pca_features\") \n",
        "model = pca.fit(data) \n",
        "transformed_data = model.transform(data) \n",
        "result = transformed_data.select(\"pca_features\") \n",
        "result.write.mode(\"overwrite\").parquet(\"resultPCA\") \n",
        "\n",
        "def export_pca_features_to_csv(parquet_file_path, csv_file_path):\n",
        "    result_pca = pd.read_parquet('/content/resultPCA', engine='pyarrow')\n",
        "    pca_features_numeric = []  \n",
        "    for row in result_pca['pca_features']:\n",
        "        pca_features_numeric.append([float(x) for x in row['values']])\n",
        "\n",
        "    pca_features_df = pd.DataFrame(pca_features_numeric, columns=['pca_feature_1', 'pca_feature_2'])\n",
        "    pca_features_df.to_csv(csv_file_path, index=False) \n",
        "\n",
        "export_pca_features_to_csv('/content/resultPCA', '/content/resultPCA/resultPCA.csv')     "
      ],
      "metadata": {
        "id": "Kcz9MHyVPfgT"
      },
      "execution_count": 9,
      "outputs": []
    },
    {
      "cell_type": "markdown",
      "source": [
        "# **8. Visualisations des résultats**"
      ],
      "metadata": {
        "id": "xasECb16dcqz"
      }
    },
    {
      "cell_type": "code",
      "source": [
        "df1 = pd.read_parquet(PATH_Result, engine='pyarrow')\n",
        "df2 = pd.read_csv('/content/resultPCA/resultPCA.csv') \n",
        "df = pd.concat([df1, df2], axis=1)\n",
        "df.to_csv('matrice.csv', index=False) \n",
        "df.head()"
      ],
      "metadata": {
        "colab": {
          "base_uri": "https://localhost:8080/",
          "height": 523
        },
        "id": "sDy5v5STdPQt",
        "outputId": "e8160992-a7c3-4cf2-dec3-335b8773d58c"
      },
      "execution_count": 10,
      "outputs": [
        {
          "output_type": "execute_result",
          "data": {
            "text/plain": [
              "                                                path        label  \\\n",
              "0  file:/content/images/fruits-360-original-size/...  apple_hit_1   \n",
              "1  file:/content/images/fruits-360-original-size/...  apple_hit_1   \n",
              "2  file:/content/images/fruits-360-original-size/...  apple_hit_1   \n",
              "3  file:/content/images/fruits-360-original-size/...  apple_hit_1   \n",
              "4  file:/content/images/fruits-360-original-size/...  apple_hit_1   \n",
              "\n",
              "                                            features  pca_feature_1  \\\n",
              "0  [0.24300367, 0.40524203, 1.7881588, 0.0, 0.0, ...       5.922424   \n",
              "1  [0.38683483, 0.23985375, 1.6046269, 0.01696724...       6.375025   \n",
              "2  [1.0393977, 0.20693327, 1.0663801, 0.0, 1.5272...       4.465300   \n",
              "3  [0.23689479, 1.2665803, 0.3642044, 0.0, 0.4414...       5.203260   \n",
              "4  [0.40759927, 0.0019354918, 0.0, 0.0, 0.0042103...       4.358709   \n",
              "\n",
              "   pca_feature_2  \n",
              "0      -1.034688  \n",
              "1      -2.991110  \n",
              "2       3.755692  \n",
              "3       4.509398  \n",
              "4       2.403972  "
            ],
            "text/html": [
              "\n",
              "  <div id=\"df-cfb698fb-6713-4c0e-95e0-332d07d50a2f\">\n",
              "    <div class=\"colab-df-container\">\n",
              "      <div>\n",
              "<style scoped>\n",
              "    .dataframe tbody tr th:only-of-type {\n",
              "        vertical-align: middle;\n",
              "    }\n",
              "\n",
              "    .dataframe tbody tr th {\n",
              "        vertical-align: top;\n",
              "    }\n",
              "\n",
              "    .dataframe thead th {\n",
              "        text-align: right;\n",
              "    }\n",
              "</style>\n",
              "<table border=\"1\" class=\"dataframe\">\n",
              "  <thead>\n",
              "    <tr style=\"text-align: right;\">\n",
              "      <th></th>\n",
              "      <th>path</th>\n",
              "      <th>label</th>\n",
              "      <th>features</th>\n",
              "      <th>pca_feature_1</th>\n",
              "      <th>pca_feature_2</th>\n",
              "    </tr>\n",
              "  </thead>\n",
              "  <tbody>\n",
              "    <tr>\n",
              "      <th>0</th>\n",
              "      <td>file:/content/images/fruits-360-original-size/...</td>\n",
              "      <td>apple_hit_1</td>\n",
              "      <td>[0.24300367, 0.40524203, 1.7881588, 0.0, 0.0, ...</td>\n",
              "      <td>5.922424</td>\n",
              "      <td>-1.034688</td>\n",
              "    </tr>\n",
              "    <tr>\n",
              "      <th>1</th>\n",
              "      <td>file:/content/images/fruits-360-original-size/...</td>\n",
              "      <td>apple_hit_1</td>\n",
              "      <td>[0.38683483, 0.23985375, 1.6046269, 0.01696724...</td>\n",
              "      <td>6.375025</td>\n",
              "      <td>-2.991110</td>\n",
              "    </tr>\n",
              "    <tr>\n",
              "      <th>2</th>\n",
              "      <td>file:/content/images/fruits-360-original-size/...</td>\n",
              "      <td>apple_hit_1</td>\n",
              "      <td>[1.0393977, 0.20693327, 1.0663801, 0.0, 1.5272...</td>\n",
              "      <td>4.465300</td>\n",
              "      <td>3.755692</td>\n",
              "    </tr>\n",
              "    <tr>\n",
              "      <th>3</th>\n",
              "      <td>file:/content/images/fruits-360-original-size/...</td>\n",
              "      <td>apple_hit_1</td>\n",
              "      <td>[0.23689479, 1.2665803, 0.3642044, 0.0, 0.4414...</td>\n",
              "      <td>5.203260</td>\n",
              "      <td>4.509398</td>\n",
              "    </tr>\n",
              "    <tr>\n",
              "      <th>4</th>\n",
              "      <td>file:/content/images/fruits-360-original-size/...</td>\n",
              "      <td>apple_hit_1</td>\n",
              "      <td>[0.40759927, 0.0019354918, 0.0, 0.0, 0.0042103...</td>\n",
              "      <td>4.358709</td>\n",
              "      <td>2.403972</td>\n",
              "    </tr>\n",
              "  </tbody>\n",
              "</table>\n",
              "</div>\n",
              "      <button class=\"colab-df-convert\" onclick=\"convertToInteractive('df-cfb698fb-6713-4c0e-95e0-332d07d50a2f')\"\n",
              "              title=\"Convert this dataframe to an interactive table.\"\n",
              "              style=\"display:none;\">\n",
              "        \n",
              "  <svg xmlns=\"http://www.w3.org/2000/svg\" height=\"24px\"viewBox=\"0 0 24 24\"\n",
              "       width=\"24px\">\n",
              "    <path d=\"M0 0h24v24H0V0z\" fill=\"none\"/>\n",
              "    <path d=\"M18.56 5.44l.94 2.06.94-2.06 2.06-.94-2.06-.94-.94-2.06-.94 2.06-2.06.94zm-11 1L8.5 8.5l.94-2.06 2.06-.94-2.06-.94L8.5 2.5l-.94 2.06-2.06.94zm10 10l.94 2.06.94-2.06 2.06-.94-2.06-.94-.94-2.06-.94 2.06-2.06.94z\"/><path d=\"M17.41 7.96l-1.37-1.37c-.4-.4-.92-.59-1.43-.59-.52 0-1.04.2-1.43.59L10.3 9.45l-7.72 7.72c-.78.78-.78 2.05 0 2.83L4 21.41c.39.39.9.59 1.41.59.51 0 1.02-.2 1.41-.59l7.78-7.78 2.81-2.81c.8-.78.8-2.07 0-2.86zM5.41 20L4 18.59l7.72-7.72 1.47 1.35L5.41 20z\"/>\n",
              "  </svg>\n",
              "      </button>\n",
              "      \n",
              "  <style>\n",
              "    .colab-df-container {\n",
              "      display:flex;\n",
              "      flex-wrap:wrap;\n",
              "      gap: 12px;\n",
              "    }\n",
              "\n",
              "    .colab-df-convert {\n",
              "      background-color: #E8F0FE;\n",
              "      border: none;\n",
              "      border-radius: 50%;\n",
              "      cursor: pointer;\n",
              "      display: none;\n",
              "      fill: #1967D2;\n",
              "      height: 32px;\n",
              "      padding: 0 0 0 0;\n",
              "      width: 32px;\n",
              "    }\n",
              "\n",
              "    .colab-df-convert:hover {\n",
              "      background-color: #E2EBFA;\n",
              "      box-shadow: 0px 1px 2px rgba(60, 64, 67, 0.3), 0px 1px 3px 1px rgba(60, 64, 67, 0.15);\n",
              "      fill: #174EA6;\n",
              "    }\n",
              "\n",
              "    [theme=dark] .colab-df-convert {\n",
              "      background-color: #3B4455;\n",
              "      fill: #D2E3FC;\n",
              "    }\n",
              "\n",
              "    [theme=dark] .colab-df-convert:hover {\n",
              "      background-color: #434B5C;\n",
              "      box-shadow: 0px 1px 3px 1px rgba(0, 0, 0, 0.15);\n",
              "      filter: drop-shadow(0px 1px 2px rgba(0, 0, 0, 0.3));\n",
              "      fill: #FFFFFF;\n",
              "    }\n",
              "  </style>\n",
              "\n",
              "      <script>\n",
              "        const buttonEl =\n",
              "          document.querySelector('#df-cfb698fb-6713-4c0e-95e0-332d07d50a2f button.colab-df-convert');\n",
              "        buttonEl.style.display =\n",
              "          google.colab.kernel.accessAllowed ? 'block' : 'none';\n",
              "\n",
              "        async function convertToInteractive(key) {\n",
              "          const element = document.querySelector('#df-cfb698fb-6713-4c0e-95e0-332d07d50a2f');\n",
              "          const dataTable =\n",
              "            await google.colab.kernel.invokeFunction('convertToInteractive',\n",
              "                                                     [key], {});\n",
              "          if (!dataTable) return;\n",
              "\n",
              "          const docLinkHtml = 'Like what you see? Visit the ' +\n",
              "            '<a target=\"_blank\" href=https://colab.research.google.com/notebooks/data_table.ipynb>data table notebook</a>'\n",
              "            + ' to learn more about interactive tables.';\n",
              "          element.innerHTML = '';\n",
              "          dataTable['output_type'] = 'display_data';\n",
              "          await google.colab.output.renderOutput(dataTable, element);\n",
              "          const docLink = document.createElement('div');\n",
              "          docLink.innerHTML = docLinkHtml;\n",
              "          element.appendChild(docLink);\n",
              "        }\n",
              "      </script>\n",
              "    </div>\n",
              "  </div>\n",
              "  "
            ]
          },
          "metadata": {},
          "execution_count": 10
        }
      ]
    }
  ]
}